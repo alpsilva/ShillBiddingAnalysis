{
 "cells": [
  {
   "cell_type": "code",
   "execution_count": 1,
   "metadata": {},
   "outputs": [],
   "source": [
    "import pandas"
   ]
  },
  {
   "cell_type": "code",
   "execution_count": 2,
   "metadata": {},
   "outputs": [
    {
     "name": "stdout",
     "output_type": "stream",
     "text": [
      "<class 'pandas.core.frame.DataFrame'>\n",
      "RangeIndex: 6321 entries, 0 to 6320\n",
      "Data columns (total 13 columns):\n",
      " #   Column                  Non-Null Count  Dtype  \n",
      "---  ------                  --------------  -----  \n",
      " 0   Record_ID               6321 non-null   int64  \n",
      " 1   Auction_ID              6321 non-null   int64  \n",
      " 2   Bidder_ID               6321 non-null   object \n",
      " 3   Bidder_Tendency         6321 non-null   float64\n",
      " 4   Bidding_Ratio           6321 non-null   float64\n",
      " 5   Successive_Outbidding   6321 non-null   float64\n",
      " 6   Last_Bidding            6321 non-null   float64\n",
      " 7   Auction_Bids            6321 non-null   float64\n",
      " 8   Starting_Price_Average  6321 non-null   float64\n",
      " 9   Early_Bidding           6321 non-null   float64\n",
      " 10  Winning_Ratio           6321 non-null   float64\n",
      " 11  Auction_Duration        6321 non-null   int64  \n",
      " 12  Class                   6321 non-null   int64  \n",
      "dtypes: float64(8), int64(4), object(1)\n",
      "memory usage: 642.1+ KB\n"
     ]
    },
    {
     "data": {
      "text/html": [
       "<div>\n",
       "<style scoped>\n",
       "    .dataframe tbody tr th:only-of-type {\n",
       "        vertical-align: middle;\n",
       "    }\n",
       "\n",
       "    .dataframe tbody tr th {\n",
       "        vertical-align: top;\n",
       "    }\n",
       "\n",
       "    .dataframe thead th {\n",
       "        text-align: right;\n",
       "    }\n",
       "</style>\n",
       "<table border=\"1\" class=\"dataframe\">\n",
       "  <thead>\n",
       "    <tr style=\"text-align: right;\">\n",
       "      <th></th>\n",
       "      <th>Record_ID</th>\n",
       "      <th>Auction_ID</th>\n",
       "      <th>Bidder_ID</th>\n",
       "      <th>Bidder_Tendency</th>\n",
       "      <th>Bidding_Ratio</th>\n",
       "      <th>Successive_Outbidding</th>\n",
       "      <th>Last_Bidding</th>\n",
       "      <th>Auction_Bids</th>\n",
       "      <th>Starting_Price_Average</th>\n",
       "      <th>Early_Bidding</th>\n",
       "      <th>Winning_Ratio</th>\n",
       "      <th>Auction_Duration</th>\n",
       "      <th>Class</th>\n",
       "    </tr>\n",
       "  </thead>\n",
       "  <tbody>\n",
       "    <tr>\n",
       "      <th>0</th>\n",
       "      <td>1</td>\n",
       "      <td>732</td>\n",
       "      <td>_***i</td>\n",
       "      <td>0.200000</td>\n",
       "      <td>0.400000</td>\n",
       "      <td>0.0</td>\n",
       "      <td>0.000028</td>\n",
       "      <td>0.0</td>\n",
       "      <td>0.993593</td>\n",
       "      <td>0.000028</td>\n",
       "      <td>0.666667</td>\n",
       "      <td>5</td>\n",
       "      <td>0</td>\n",
       "    </tr>\n",
       "    <tr>\n",
       "      <th>1</th>\n",
       "      <td>2</td>\n",
       "      <td>732</td>\n",
       "      <td>g***r</td>\n",
       "      <td>0.024390</td>\n",
       "      <td>0.200000</td>\n",
       "      <td>0.0</td>\n",
       "      <td>0.013123</td>\n",
       "      <td>0.0</td>\n",
       "      <td>0.993593</td>\n",
       "      <td>0.013123</td>\n",
       "      <td>0.944444</td>\n",
       "      <td>5</td>\n",
       "      <td>0</td>\n",
       "    </tr>\n",
       "    <tr>\n",
       "      <th>2</th>\n",
       "      <td>3</td>\n",
       "      <td>732</td>\n",
       "      <td>t***p</td>\n",
       "      <td>0.142857</td>\n",
       "      <td>0.200000</td>\n",
       "      <td>0.0</td>\n",
       "      <td>0.003042</td>\n",
       "      <td>0.0</td>\n",
       "      <td>0.993593</td>\n",
       "      <td>0.003042</td>\n",
       "      <td>1.000000</td>\n",
       "      <td>5</td>\n",
       "      <td>0</td>\n",
       "    </tr>\n",
       "    <tr>\n",
       "      <th>3</th>\n",
       "      <td>4</td>\n",
       "      <td>732</td>\n",
       "      <td>7***n</td>\n",
       "      <td>0.100000</td>\n",
       "      <td>0.200000</td>\n",
       "      <td>0.0</td>\n",
       "      <td>0.097477</td>\n",
       "      <td>0.0</td>\n",
       "      <td>0.993593</td>\n",
       "      <td>0.097477</td>\n",
       "      <td>1.000000</td>\n",
       "      <td>5</td>\n",
       "      <td>0</td>\n",
       "    </tr>\n",
       "    <tr>\n",
       "      <th>4</th>\n",
       "      <td>5</td>\n",
       "      <td>900</td>\n",
       "      <td>z***z</td>\n",
       "      <td>0.051282</td>\n",
       "      <td>0.222222</td>\n",
       "      <td>0.0</td>\n",
       "      <td>0.001318</td>\n",
       "      <td>0.0</td>\n",
       "      <td>0.000000</td>\n",
       "      <td>0.001242</td>\n",
       "      <td>0.500000</td>\n",
       "      <td>7</td>\n",
       "      <td>0</td>\n",
       "    </tr>\n",
       "  </tbody>\n",
       "</table>\n",
       "</div>"
      ],
      "text/plain": [
       "   Record_ID  Auction_ID Bidder_ID  Bidder_Tendency  Bidding_Ratio  \\\n",
       "0          1         732     _***i         0.200000       0.400000   \n",
       "1          2         732     g***r         0.024390       0.200000   \n",
       "2          3         732     t***p         0.142857       0.200000   \n",
       "3          4         732     7***n         0.100000       0.200000   \n",
       "4          5         900     z***z         0.051282       0.222222   \n",
       "\n",
       "   Successive_Outbidding  Last_Bidding  Auction_Bids  Starting_Price_Average  \\\n",
       "0                    0.0      0.000028           0.0                0.993593   \n",
       "1                    0.0      0.013123           0.0                0.993593   \n",
       "2                    0.0      0.003042           0.0                0.993593   \n",
       "3                    0.0      0.097477           0.0                0.993593   \n",
       "4                    0.0      0.001318           0.0                0.000000   \n",
       "\n",
       "   Early_Bidding  Winning_Ratio  Auction_Duration  Class  \n",
       "0       0.000028       0.666667                 5      0  \n",
       "1       0.013123       0.944444                 5      0  \n",
       "2       0.003042       1.000000                 5      0  \n",
       "3       0.097477       1.000000                 5      0  \n",
       "4       0.001242       0.500000                 7      0  "
      ]
     },
     "execution_count": 2,
     "metadata": {},
     "output_type": "execute_result"
    }
   ],
   "source": [
    "file_path = \"./dataset/Shill Bidding Dataset.csv\"\n",
    "\n",
    "df = pandas.read_csv(file_path)\n",
    "\n",
    "df.info()\n",
    "df.head()"
   ]
  },
  {
   "cell_type": "code",
   "execution_count": 3,
   "metadata": {},
   "outputs": [
    {
     "data": {
      "text/plain": [
       "Successive_Outbidding\n",
       "0.0    5478\n",
       "0.5     374\n",
       "1.0     469\n",
       "Name: Successive_Outbidding, dtype: int64"
      ]
     },
     "execution_count": 3,
     "metadata": {},
     "output_type": "execute_result"
    }
   ],
   "source": [
    "df.groupby(\"Successive_Outbidding\")[\"Successive_Outbidding\"].count()"
   ]
  },
  {
   "cell_type": "code",
   "execution_count": 4,
   "metadata": {},
   "outputs": [
    {
     "name": "stdout",
     "output_type": "stream",
     "text": [
      "<class 'pandas.core.frame.DataFrame'>\n",
      "RangeIndex: 6321 entries, 0 to 6320\n",
      "Data columns (total 13 columns):\n",
      " #   Column                  Non-Null Count  Dtype  \n",
      "---  ------                  --------------  -----  \n",
      " 0   Record_ID               6321 non-null   object \n",
      " 1   Auction_ID              6321 non-null   object \n",
      " 2   Bidder_ID               6321 non-null   object \n",
      " 3   Bidder_Tendency         6321 non-null   float64\n",
      " 4   Bidding_Ratio           6321 non-null   float64\n",
      " 5   Successive_Outbidding   6321 non-null   object \n",
      " 6   Last_Bidding            6321 non-null   float64\n",
      " 7   Auction_Bids            6321 non-null   float64\n",
      " 8   Starting_Price_Average  6321 non-null   float64\n",
      " 9   Early_Bidding           6321 non-null   float64\n",
      " 10  Winning_Ratio           6321 non-null   float64\n",
      " 11  Auction_Duration        6321 non-null   int64  \n",
      " 12  Class                   6321 non-null   int64  \n",
      "dtypes: float64(7), int64(2), object(4)\n",
      "memory usage: 642.1+ KB\n"
     ]
    }
   ],
   "source": [
    "df[\"Record_ID\"] = df[\"Record_ID\"].astype(\"str\")\n",
    "df[\"Auction_ID\"] = df[\"Auction_ID\"].astype(\"str\")\n",
    "df[\"Successive_Outbidding\"] = df[\"Successive_Outbidding\"].astype(\"str\")\n",
    "\n",
    "df.info()"
   ]
  },
  {
   "attachments": {},
   "cell_type": "markdown",
   "metadata": {},
   "source": [
    "# Perfil dos dados\n",
    "\n",
    "Colunas: 13.\n",
    "\n",
    "Registros: 6321.\n",
    "\n",
    "Existem 3 atributos que poderiam ser considerados categóricos (Record_ID, Auction_ID, Bidder_ID), mas como são apenas dados de identificação do registro, não serão utilizados para a classificação.\n",
    "\n",
    "O Successive_Outbidding, embora não esteja declarado explicitamente como um dado categórico e não haja legenda para os valores que pode adotar, na prática age como um atribute categórico por só adotar 3 possíveis valores.\n",
    "\n",
    "Todos os demais atributos são numéricos."
   ]
  },
  {
   "attachments": {},
   "cell_type": "markdown",
   "metadata": {},
   "source": [
    "# Checando existência de dados nulos\n",
    "Como podemos ver na consulta abaixo, não há dados nulos."
   ]
  },
  {
   "cell_type": "code",
   "execution_count": 5,
   "metadata": {},
   "outputs": [
    {
     "data": {
      "text/plain": [
       "Record_ID                 0\n",
       "Auction_ID                0\n",
       "Bidder_ID                 0\n",
       "Bidder_Tendency           0\n",
       "Bidding_Ratio             0\n",
       "Successive_Outbidding     0\n",
       "Last_Bidding              0\n",
       "Auction_Bids              0\n",
       "Starting_Price_Average    0\n",
       "Early_Bidding             0\n",
       "Winning_Ratio             0\n",
       "Auction_Duration          0\n",
       "Class                     0\n",
       "dtype: int64"
      ]
     },
     "execution_count": 5,
     "metadata": {},
     "output_type": "execute_result"
    }
   ],
   "source": [
    "df.isnull().sum()"
   ]
  },
  {
   "attachments": {},
   "cell_type": "markdown",
   "metadata": {},
   "source": [
    "# Checando registros duplicados\n",
    "Como podemos ver na consulta abaixo, não há dados duplicados."
   ]
  },
  {
   "cell_type": "code",
   "execution_count": 6,
   "metadata": {},
   "outputs": [
    {
     "name": "stdout",
     "output_type": "stream",
     "text": [
      "No duplicated entries found\n"
     ]
    }
   ],
   "source": [
    "if len(df[df.duplicated()]) > 0:\n",
    "    print(\"No. of duplicated entries: \", len(df[df.duplicated()]))\n",
    "    print(df[df.duplicated(keep=False)].sort_values(by=list(df.columns)).head())\n",
    "else:\n",
    "    print(\"No duplicated entries found\")"
   ]
  },
  {
   "attachments": {},
   "cell_type": "markdown",
   "metadata": {},
   "source": [
    "# Distribuição de dados numéricos"
   ]
  },
  {
   "cell_type": "code",
   "execution_count": 7,
   "metadata": {},
   "outputs": [
    {
     "data": {
      "text/html": [
       "<div>\n",
       "<style scoped>\n",
       "    .dataframe tbody tr th:only-of-type {\n",
       "        vertical-align: middle;\n",
       "    }\n",
       "\n",
       "    .dataframe tbody tr th {\n",
       "        vertical-align: top;\n",
       "    }\n",
       "\n",
       "    .dataframe thead th {\n",
       "        text-align: right;\n",
       "    }\n",
       "</style>\n",
       "<table border=\"1\" class=\"dataframe\">\n",
       "  <thead>\n",
       "    <tr style=\"text-align: right;\">\n",
       "      <th></th>\n",
       "      <th>Bidder_Tendency</th>\n",
       "      <th>Bidding_Ratio</th>\n",
       "      <th>Last_Bidding</th>\n",
       "      <th>Auction_Bids</th>\n",
       "      <th>Starting_Price_Average</th>\n",
       "      <th>Early_Bidding</th>\n",
       "      <th>Winning_Ratio</th>\n",
       "      <th>Auction_Duration</th>\n",
       "      <th>Class</th>\n",
       "    </tr>\n",
       "  </thead>\n",
       "  <tbody>\n",
       "    <tr>\n",
       "      <th>count</th>\n",
       "      <td>6321.000000</td>\n",
       "      <td>6321.000000</td>\n",
       "      <td>6321.000000</td>\n",
       "      <td>6321.000000</td>\n",
       "      <td>6321.000000</td>\n",
       "      <td>6321.000000</td>\n",
       "      <td>6321.000000</td>\n",
       "      <td>6321.000000</td>\n",
       "      <td>6321.000000</td>\n",
       "    </tr>\n",
       "    <tr>\n",
       "      <th>mean</th>\n",
       "      <td>0.142541</td>\n",
       "      <td>0.127670</td>\n",
       "      <td>0.463119</td>\n",
       "      <td>0.231606</td>\n",
       "      <td>0.472821</td>\n",
       "      <td>0.430683</td>\n",
       "      <td>0.367731</td>\n",
       "      <td>4.615093</td>\n",
       "      <td>0.106787</td>\n",
       "    </tr>\n",
       "    <tr>\n",
       "      <th>std</th>\n",
       "      <td>0.197084</td>\n",
       "      <td>0.131530</td>\n",
       "      <td>0.380097</td>\n",
       "      <td>0.255252</td>\n",
       "      <td>0.489912</td>\n",
       "      <td>0.380785</td>\n",
       "      <td>0.436573</td>\n",
       "      <td>2.466629</td>\n",
       "      <td>0.308867</td>\n",
       "    </tr>\n",
       "    <tr>\n",
       "      <th>min</th>\n",
       "      <td>0.000000</td>\n",
       "      <td>0.011765</td>\n",
       "      <td>0.000000</td>\n",
       "      <td>0.000000</td>\n",
       "      <td>0.000000</td>\n",
       "      <td>0.000000</td>\n",
       "      <td>0.000000</td>\n",
       "      <td>1.000000</td>\n",
       "      <td>0.000000</td>\n",
       "    </tr>\n",
       "    <tr>\n",
       "      <th>25%</th>\n",
       "      <td>0.027027</td>\n",
       "      <td>0.043478</td>\n",
       "      <td>0.047928</td>\n",
       "      <td>0.000000</td>\n",
       "      <td>0.000000</td>\n",
       "      <td>0.026620</td>\n",
       "      <td>0.000000</td>\n",
       "      <td>3.000000</td>\n",
       "      <td>0.000000</td>\n",
       "    </tr>\n",
       "    <tr>\n",
       "      <th>50%</th>\n",
       "      <td>0.062500</td>\n",
       "      <td>0.083333</td>\n",
       "      <td>0.440937</td>\n",
       "      <td>0.142857</td>\n",
       "      <td>0.000000</td>\n",
       "      <td>0.360104</td>\n",
       "      <td>0.000000</td>\n",
       "      <td>5.000000</td>\n",
       "      <td>0.000000</td>\n",
       "    </tr>\n",
       "    <tr>\n",
       "      <th>75%</th>\n",
       "      <td>0.166667</td>\n",
       "      <td>0.166667</td>\n",
       "      <td>0.860363</td>\n",
       "      <td>0.454545</td>\n",
       "      <td>0.993593</td>\n",
       "      <td>0.826761</td>\n",
       "      <td>0.851852</td>\n",
       "      <td>7.000000</td>\n",
       "      <td>0.000000</td>\n",
       "    </tr>\n",
       "    <tr>\n",
       "      <th>max</th>\n",
       "      <td>1.000000</td>\n",
       "      <td>1.000000</td>\n",
       "      <td>0.999900</td>\n",
       "      <td>0.788235</td>\n",
       "      <td>0.999935</td>\n",
       "      <td>0.999900</td>\n",
       "      <td>1.000000</td>\n",
       "      <td>10.000000</td>\n",
       "      <td>1.000000</td>\n",
       "    </tr>\n",
       "  </tbody>\n",
       "</table>\n",
       "</div>"
      ],
      "text/plain": [
       "       Bidder_Tendency  Bidding_Ratio  Last_Bidding  Auction_Bids  \\\n",
       "count      6321.000000    6321.000000   6321.000000   6321.000000   \n",
       "mean          0.142541       0.127670      0.463119      0.231606   \n",
       "std           0.197084       0.131530      0.380097      0.255252   \n",
       "min           0.000000       0.011765      0.000000      0.000000   \n",
       "25%           0.027027       0.043478      0.047928      0.000000   \n",
       "50%           0.062500       0.083333      0.440937      0.142857   \n",
       "75%           0.166667       0.166667      0.860363      0.454545   \n",
       "max           1.000000       1.000000      0.999900      0.788235   \n",
       "\n",
       "       Starting_Price_Average  Early_Bidding  Winning_Ratio  Auction_Duration  \\\n",
       "count             6321.000000    6321.000000    6321.000000       6321.000000   \n",
       "mean                 0.472821       0.430683       0.367731          4.615093   \n",
       "std                  0.489912       0.380785       0.436573          2.466629   \n",
       "min                  0.000000       0.000000       0.000000          1.000000   \n",
       "25%                  0.000000       0.026620       0.000000          3.000000   \n",
       "50%                  0.000000       0.360104       0.000000          5.000000   \n",
       "75%                  0.993593       0.826761       0.851852          7.000000   \n",
       "max                  0.999935       0.999900       1.000000         10.000000   \n",
       "\n",
       "             Class  \n",
       "count  6321.000000  \n",
       "mean      0.106787  \n",
       "std       0.308867  \n",
       "min       0.000000  \n",
       "25%       0.000000  \n",
       "50%       0.000000  \n",
       "75%       0.000000  \n",
       "max       1.000000  "
      ]
     },
     "execution_count": 7,
     "metadata": {},
     "output_type": "execute_result"
    }
   ],
   "source": [
    "df.describe()"
   ]
  },
  {
   "attachments": {},
   "cell_type": "markdown",
   "metadata": {},
   "source": [
    "- Podemos ver que não há nenhum valor negativo nos dados numéricos, o que é algo positivo pois nada na descrição dos dados dá a entender que existiriam. Caso houvesse algum registro com valores negativos, seria um bom indicador de sujeira nos dados.\n",
    "\n",
    "- Em alguns dados, principalmente Bidder_Tendency, Bidding_Ration e Auction_Bids, o valor máximo está muito distante do 75% percentil, indicando a possível existência de outliers. Essa possibilidade será averiguada nos gráficos boxplot.\n"
   ]
  },
  {
   "cell_type": "code",
   "execution_count": 8,
   "metadata": {},
   "outputs": [
    {
     "data": {
      "text/plain": [
       "<AxesSubplot:>"
      ]
     },
     "execution_count": 8,
     "metadata": {},
     "output_type": "execute_result"
    },
    {
     "data": {
      "image/png": "[encoded data removed]",
      "text/plain": [
       "<Figure size 2500x1000 with 1 Axes>"
      ]
     },
     "metadata": {},
     "output_type": "display_data"
    }
   ],
   "source": [
    "df.boxplot(figsize=(25, 10))"
   ]
  },
  {
   "attachments": {},
   "cell_type": "markdown",
   "metadata": {},
   "source": [
    "- De fato, Bidder_Tendency e Bidding_Ratio possuem outliers.\n",
    "- Os outliers em Class serão desconsiderados pois essa é a label do problema, e consiste de 0's e 1's. Porém, é um bom indicativo de que talvez o dataset esteja desbalanceado. Essa possibilidade será averiguada logo a seguir.\n"
   ]
  },
  {
   "cell_type": "code",
   "execution_count": null,
   "metadata": {},
   "outputs": [],
   "source": []
  },
  {
   "attachments": {},
   "cell_type": "markdown",
   "metadata": {},
   "source": [
    "# Distribuição das classes"
   ]
  },
  {
   "cell_type": "code",
   "execution_count": 9,
   "metadata": {},
   "outputs": [
    {
     "data": {
      "text/plain": [
       "Class\n",
       "0    5646\n",
       "1     675\n",
       "Name: Class, dtype: int64"
      ]
     },
     "execution_count": 9,
     "metadata": {},
     "output_type": "execute_result"
    }
   ],
   "source": [
    "df.groupby(\"Class\")[\"Class\"].count()"
   ]
  },
  {
   "attachments": {},
   "cell_type": "markdown",
   "metadata": {},
   "source": [
    "# Distribuição de dados categóricos"
   ]
  },
  {
   "cell_type": "code",
   "execution_count": null,
   "metadata": {},
   "outputs": [],
   "source": []
  },
  {
   "attachments": {},
   "cell_type": "markdown",
   "metadata": {},
   "source": [
    "# Conclusões\n",
    "\n",
    "1. No caso do atributo Successive_Outbidding, a sua descrição faz aparentar de um dado categórico, mas pudemos ver na sua distribuição a presença de um valor 0.5, além de 0 e 1. Como na descrição não há legendas para os valores que os atributos podem assumir, decidimos deixar esse atributo como numérico."
   ]
  }
 ],
 "metadata": {
  "kernelspec": {
   "display_name": "Python 3",
   "language": "python",
   "name": "python3"
  },
  "language_info": {
   "codemirror_mode": {
    "name": "ipython",
    "version": 3
   },
   "file_extension": ".py",
   "mimetype": "text/x-python",
   "name": "python",
   "nbconvert_exporter": "python",
   "pygments_lexer": "ipython3",
   "version": "3.10.6"
  },
  "orig_nbformat": 4
 },
 "nbformat": 4,
 "nbformat_minor": 2
}
