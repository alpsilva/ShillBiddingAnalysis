{
 "cells": [
  {
   "cell_type": "code",
   "execution_count": null,
   "metadata": {},
   "outputs": [],
   "source": []
  },
  {
   "attachments": {},
   "cell_type": "markdown",
   "metadata": {},
   "source": [
    "# Imports"
   ]
  },
  {
   "cell_type": "code",
   "execution_count": 1,
   "metadata": {},
   "outputs": [
    {
     "name": "stdout",
     "output_type": "stream",
     "text": [
      "Defaulting to user installation because normal site-packages is not writeable\n",
      "Requirement already satisfied: scikit-learn in /home/alps2/.local/lib/python3.10/site-packages (1.1.2)\n",
      "Requirement already satisfied: threadpoolctl>=2.0.0 in /home/alps2/.local/lib/python3.10/site-packages (from scikit-learn) (3.1.0)\n",
      "Requirement already satisfied: numpy>=1.17.3 in /home/alps2/.local/lib/python3.10/site-packages (from scikit-learn) (1.23.2)\n",
      "Requirement already satisfied: scipy>=1.3.2 in /home/alps2/.local/lib/python3.10/site-packages (from scikit-learn) (1.8.1)\n",
      "Requirement already satisfied: joblib>=1.0.0 in /home/alps2/.local/lib/python3.10/site-packages (from scikit-learn) (1.1.0)\n",
      "Note: you may need to restart the kernel to use updated packages.\n",
      "Defaulting to user installation because normal site-packages is not writeable\n",
      "Requirement already satisfied: seaborn in /home/alps2/.local/lib/python3.10/site-packages (0.12.2)\n",
      "Requirement already satisfied: matplotlib!=3.6.1,>=3.1 in /home/alps2/.local/lib/python3.10/site-packages (from seaborn) (3.5.3)\n",
      "Requirement already satisfied: pandas>=0.25 in /home/alps2/.local/lib/python3.10/site-packages (from seaborn) (1.3.3)\n",
      "Requirement already satisfied: numpy!=1.24.0,>=1.17 in /home/alps2/.local/lib/python3.10/site-packages (from seaborn) (1.23.2)\n",
      "Requirement already satisfied: pillow>=6.2.0 in /usr/lib/python3/dist-packages (from matplotlib!=3.6.1,>=3.1->seaborn) (9.0.1)\n",
      "Requirement already satisfied: python-dateutil>=2.7 in /home/alps2/.local/lib/python3.10/site-packages (from matplotlib!=3.6.1,>=3.1->seaborn) (2.8.1)\n",
      "Requirement already satisfied: kiwisolver>=1.0.1 in /home/alps2/.local/lib/python3.10/site-packages (from matplotlib!=3.6.1,>=3.1->seaborn) (1.4.4)\n",
      "Requirement already satisfied: packaging>=20.0 in /home/alps2/.local/lib/python3.10/site-packages (from matplotlib!=3.6.1,>=3.1->seaborn) (21.3)\n",
      "Requirement already satisfied: pyparsing>=2.2.1 in /usr/lib/python3/dist-packages (from matplotlib!=3.6.1,>=3.1->seaborn) (2.4.7)\n",
      "Requirement already satisfied: fonttools>=4.22.0 in /home/alps2/.local/lib/python3.10/site-packages (from matplotlib!=3.6.1,>=3.1->seaborn) (4.36.0)\n",
      "Requirement already satisfied: cycler>=0.10 in /home/alps2/.local/lib/python3.10/site-packages (from matplotlib!=3.6.1,>=3.1->seaborn) (0.11.0)\n",
      "Requirement already satisfied: pytz>=2017.3 in /usr/lib/python3/dist-packages (from pandas>=0.25->seaborn) (2022.1)\n",
      "Requirement already satisfied: six>=1.5 in /usr/lib/python3/dist-packages (from python-dateutil>=2.7->matplotlib!=3.6.1,>=3.1->seaborn) (1.16.0)\n",
      "Note: you may need to restart the kernel to use updated packages.\n",
      "Defaulting to user installation because normal site-packages is not writeable\n",
      "Requirement already satisfied: pandas in /home/alps2/.local/lib/python3.10/site-packages (1.3.3)\n",
      "Requirement already satisfied: python-dateutil>=2.7.3 in /home/alps2/.local/lib/python3.10/site-packages (from pandas) (2.8.1)\n",
      "Requirement already satisfied: pytz>=2017.3 in /usr/lib/python3/dist-packages (from pandas) (2022.1)\n",
      "Requirement already satisfied: numpy>=1.17.3 in /home/alps2/.local/lib/python3.10/site-packages (from pandas) (1.23.2)\n",
      "Requirement already satisfied: six>=1.5 in /usr/lib/python3/dist-packages (from python-dateutil>=2.7.3->pandas) (1.16.0)\n",
      "Note: you may need to restart the kernel to use updated packages.\n"
     ]
    }
   ],
   "source": [
    "%pip install scikit-learn\n",
    "%pip install seaborn\n",
    "%pip install pandas\n",
    "\n",
    "import matplotlib.pyplot as plt\n",
    "import seaborn\n",
    "import pandas\n",
    "import numpy\n",
    "\n",
    "# Tools\n",
    "import time\n",
    "from sklearn.model_selection import train_test_split\n",
    "from sklearn.metrics import classification_report, confusion_matrix\n",
    "\n",
    "# models\n",
    "from sklearn.tree import DecisionTreeClassifier"
   ]
  },
  {
   "attachments": {},
   "cell_type": "markdown",
   "metadata": {},
   "source": [
    "# Definindo Constantes"
   ]
  },
  {
   "cell_type": "code",
   "execution_count": 2,
   "metadata": {},
   "outputs": [],
   "source": [
    "RANDOM_SEED = 1337\n",
    "N_JOBS = -1"
   ]
  },
  {
   "attachments": {},
   "cell_type": "markdown",
   "metadata": {},
   "source": [
    "# Carregamento de dados"
   ]
  },
  {
   "cell_type": "code",
   "execution_count": 3,
   "metadata": {},
   "outputs": [],
   "source": [
    "def load_data(file_path: str, positive_label_multiplication: int = 2) -> pandas.DataFrame:\n",
    "    \"\"\" Receives a file path for the dataset training, testing and validation datasets. \"\"\"\n",
    "\n",
    "    # Loading data from csv file\n",
    "    df = pandas.read_csv(file_path)\n",
    "\n",
    "    # Selecting useful features\n",
    "    useful_features = [\n",
    "        \"Bidder_Tendency\",\n",
    "        \"Bidding_Ratio\",\n",
    "        \"Successive_Outbidding\",\n",
    "        \"Last_Bidding\",\n",
    "        \"Auction_Bids\",\n",
    "        \"Starting_Price_Average\",\n",
    "        \"Early_Bidding\",\n",
    "        \"Winning_Ratio\",\n",
    "        \"Auction_Duration\",\n",
    "        \"Class\"\n",
    "    ]\n",
    "\n",
    "    df = df[useful_features]\n",
    "\n",
    "    # Augmenting positive label data\n",
    "    positive_labels = df[df[\"Class\"] == 1]\n",
    "\n",
    "    dfs_to_concat = [df]\n",
    "    for _ in range(positive_label_multiplication):\n",
    "        dfs_to_concat.append(positive_labels)\n",
    "\n",
    "    df = pandas.concat(dfs_to_concat)\n",
    "    df = df.sample(frac=1)\n",
    "\n",
    "    # Separating features and labels\n",
    "    columns = list(df.columns)\n",
    "    features = columns[:len(columns)-1]\n",
    "    label = columns[len(columns)-1:]\n",
    "\n",
    "    X = df[features]\n",
    "    y = df[label]\n",
    "\n",
    "    # Creating training, testing and validation datasets\n",
    "    X_train, X_test, y_train, y_test = train_test_split(X, y, test_size=0.2, random_state = RANDOM_SEED)\n",
    "    X_train, X_valid, y_train, y_valid = train_test_split(X_train, y_train, test_size = 0.125, random_state = RANDOM_SEED)\n",
    "\n",
    "    return X_train, y_train, X_test, y_test, X_valid, y_valid"
   ]
  },
  {
   "cell_type": "code",
   "execution_count": 4,
   "metadata": {},
   "outputs": [],
   "source": [
    "file_path = \"./dataset/Shill Bidding Dataset.csv\"\n",
    "\n",
    "X_train, y_train, X_test, y_test, X_valid, y_valid = load_data(file_path)"
   ]
  },
  {
   "attachments": {},
   "cell_type": "markdown",
   "metadata": {},
   "source": [
    "# Instanciando modelo"
   ]
  },
  {
   "cell_type": "code",
   "execution_count": 5,
   "metadata": {},
   "outputs": [
    {
     "name": "stdout",
     "output_type": "stream",
     "text": [
      "Training decision tree\n",
      "Training of decision tree completed in 0.0 seconds\n"
     ]
    }
   ],
   "source": [
    "decision_tree = DecisionTreeClassifier(\n",
    "    criterion= \"gini\",\n",
    "    max_depth= 38,\n",
    "    max_features= None,\n",
    "    splitter= \"random\"\n",
    ")\n",
    "\n",
    "print(\"Training decision tree\")\n",
    "start = time.time()\n",
    "\n",
    "decision_tree.fit(X_train, y_train.values.ravel())\n",
    "\n",
    "end = round(time.time() - start, 2)\n",
    "print(f\"Training of decision tree completed in {end} seconds\")"
   ]
  },
  {
   "attachments": {},
   "cell_type": "markdown",
   "metadata": {},
   "source": [
    "# Checando relevância dos atributos\n",
    "Utilizamos os atributos presentes numa decision tree treinada (feature_names_in_ e feature_importances_), para determinar quais features são mais relevantes para a decision tree, na hora de classificar.\n",
    "\n",
    "É importante ressaltar que esses atributos, por si mesmos, não indicam exatamente se a presença ou falta deles é um ótimo indicativo do comportamento fraudulento que desejamos detectar,\n",
    "mas sim que a decision tree consegue ganhar muita informação ao dividir os registros com base no valor do atributo.\n",
    "\n",
    "Dito isso, se somarmos o conhecimento obtido nessa análise com o contexto do nosso problema, podemos afirmar com bastante certeza que o atributo mais relevante para a árvore, Successive_Outbidding, é um indicador excelente de comportamento suspeito.\n",
    "\n",
    "O Successive_Outbidding indica o comportamento muito específico de um usuário que JÁ ESTÁ VENCENDO um leilão, mas CONTINUA A DAR LANCES, CADA VEZ MAIORES.\n",
    "É um comportamento ilógico que dificilmente partiria de um usuário legítimo, pois faria com que precise pagar mais sem necessidade.\n",
    "Esse comportamento é exemplar de usuários falsos pertencentes ao dono do item em leilão, ou ao menos relacionados, que fazem isso apenas para inflacionar o valor do item, sem interesse em comprá-lo.\n",
    "\n",
    "Sendo assim, após analisar o gráfico, as sugestões mais relevante para darmos seriam:\n",
    "1. Imediatamente cancelar qualquer lance que se enquadre no padrão de Successive_Outbidding e bloquear o usuário responsável, mantendo um canal de comunicação aberto para os casos raros de usuários legítimos que por acaso fizeram isso, sem intenções maliciosas terem a opção de contestar o bloqueio.\n",
    "2. Criar um alerta automático para a presença dos comportamentos descritos como sendo os 2º, 3º e 4º mais relevantes, que repassa o caso para as IA's desenvolvidas. Embora esses atributos (Auction Duration, Winning_Ration e Last_Bidding) sejam bem menos relevantes que o Successive_Outbidding para a classificação, até por representarem uma range de valores e não exatamente uma categoria, registros com esses valores próximos dos valores médios de comportamento fraudulentos são bastante suspeitos."
   ]
  },
  {
   "cell_type": "code",
   "execution_count": 11,
   "metadata": {},
   "outputs": [
    {
     "name": "stdout",
     "output_type": "stream",
     "text": [
      "Feature Importances:\n"
     ]
    },
    {
     "data": {
      "text/plain": [
       "<AxesSubplot:xlabel='feature', ylabel='importance'>"
      ]
     },
     "execution_count": 11,
     "metadata": {},
     "output_type": "execute_result"
    },
    {
     "data": {
      "image/png": "[encoded data removed]",
      "text/plain": [
       "<Figure size 2000x1000 with 1 Axes>"
      ]
     },
     "metadata": {},
     "output_type": "display_data"
    }
   ],
   "source": [
    "features = decision_tree.feature_names_in_\n",
    "importances = decision_tree.feature_importances_\n",
    "\n",
    "feature_importances = []\n",
    "for i, feature in enumerate(features):\n",
    "    feature_importances.append({\n",
    "        \"feature\": feature,\n",
    "        \"importance\": round(importances[i], 3)\n",
    "    })\n",
    "\n",
    "feature_importances = sorted(feature_importances, key=lambda x: x[\"importance\"], reverse=True)\n",
    "feature_importances = feature_importances[:15]\n",
    "\n",
    "print(\"Feature Importances:\")\n",
    "seaborn.set(rc={'figure.figsize':(20,10)})\n",
    "seaborn.barplot(data=pandas.DataFrame(feature_importances), x=\"feature\", y=\"importance\")"
   ]
  }
 ],
 "metadata": {
  "kernelspec": {
   "display_name": "Python 3",
   "language": "python",
   "name": "python3"
  },
  "language_info": {
   "codemirror_mode": {
    "name": "ipython",
    "version": 3
   },
   "file_extension": ".py",
   "mimetype": "text/x-python",
   "name": "python",
   "nbconvert_exporter": "python",
   "pygments_lexer": "ipython3",
   "version": "3.10.6"
  },
  "orig_nbformat": 4
 },
 "nbformat": 4,
 "nbformat_minor": 2
}
